{
 "cells": [
  {
   "cell_type": "code",
   "execution_count": 4,
   "metadata": {},
   "outputs": [
    {
     "name": "stdout",
     "output_type": "stream",
     "text": [
      "3.1506\n"
     ]
    }
   ],
   "source": [
    "import numpy as np\n",
    "import math\n",
    "import timing\n",
    "\n",
    "np.random.seed()\n",
    "\n",
    "def random_point(r):\n",
    "    point = (np.random.rand() * (2 * r)) - r # Scales float from 0 -> 1 to -r -> r\n",
    "    return point\n",
    "\n",
    "def get_pi():\n",
    "    r = 1\n",
    "    in_circle = 0\n",
    "    out_circle = 0\n",
    "    reps = 20000\n",
    "    for i in range(reps):\n",
    "        point_coords = (random_point(r), random_point(r))\n",
    "        d = math.sqrt(point_coords[0] ** 2 + point_coords[1] ** 2)\n",
    "        if d <= r:\n",
    "            in_circle += 1\n",
    "        else:\n",
    "            out_circle += 1\n",
    "    # a_square = 4 * r ** 2\n",
    "    # a_circle = pi * r ** 2\n",
    "    # a_circle / a_square = pi / 4\n",
    "    # 4 (a_circle / a_square) = pi\n",
    "    pi_val = 4 * (in_circle / (in_circle + out_circle))\n",
    "    return pi_val\n",
    "\n",
    "print(get_pi())"
   ]
  },
  {
   "cell_type": "code",
   "execution_count": null,
   "metadata": {},
   "outputs": [],
   "source": []
  },
  {
   "cell_type": "code",
   "execution_count": null,
   "metadata": {},
   "outputs": [],
   "source": []
  },
  {
   "cell_type": "code",
   "execution_count": 5,
   "metadata": {},
   "outputs": [
    {
     "name": "stdout",
     "output_type": "stream",
     "text": [
      "[1, 2, 3, 4, 5, 6]\n"
     ]
    }
   ],
   "source": [
    "x = [1,2,3,4,5,6]\n",
    "print(x[:])"
   ]
  },
  {
   "cell_type": "code",
   "execution_count": 6,
   "metadata": {},
   "outputs": [
    {
     "name": "stdout",
     "output_type": "stream",
     "text": [
      "[([0., 0.], 0., 0., [0., 0., 0., 0.]) ([0., 0.], 0., 0., [0., 0., 0., 0.])\n",
      " ([0., 0.], 0., 0., [0., 0., 0., 0.]) ([0., 0.], 0., 0., [0., 0., 0., 0.])\n",
      " ([0., 0.], 0., 0., [0., 0., 0., 0.]) ([0., 0.], 0., 0., [0., 0., 0., 0.])\n",
      " ([0., 0.], 0., 0., [0., 0., 0., 0.]) ([0., 0.], 0., 0., [0., 0., 0., 0.])\n",
      " ([0., 0.], 0., 0., [0., 0., 0., 0.]) ([0., 0.], 0., 0., [0., 0., 0., 0.])\n",
      " ([0., 0.], 0., 0., [0., 0., 0., 0.]) ([0., 0.], 0., 0., [0., 0., 0., 0.])\n",
      " ([0., 0.], 0., 0., [0., 0., 0., 0.]) ([0., 0.], 0., 0., [0., 0., 0., 0.])\n",
      " ([0., 0.], 0., 0., [0., 0., 0., 0.]) ([0., 0.], 0., 0., [0., 0., 0., 0.])\n",
      " ([0., 0.], 0., 0., [0., 0., 0., 0.]) ([0., 0.], 0., 0., [0., 0., 0., 0.])\n",
      " ([0., 0.], 0., 0., [0., 0., 0., 0.]) ([0., 0.], 0., 0., [0., 0., 0., 0.])\n",
      " ([0., 0.], 0., 0., [0., 0., 0., 0.]) ([0., 0.], 0., 0., [0., 0., 0., 0.])\n",
      " ([0., 0.], 0., 0., [0., 0., 0., 0.]) ([0., 0.], 0., 0., [0., 0., 0., 0.])\n",
      " ([0., 0.], 0., 0., [0., 0., 0., 0.]) ([0., 0.], 0., 0., [0., 0., 0., 0.])\n",
      " ([0., 0.], 0., 0., [0., 0., 0., 0.]) ([0., 0.], 0., 0., [0., 0., 0., 0.])\n",
      " ([0., 0.], 0., 0., [0., 0., 0., 0.]) ([0., 0.], 0., 0., [0., 0., 0., 0.])\n",
      " ([0., 0.], 0., 0., [0., 0., 0., 0.]) ([0., 0.], 0., 0., [0., 0., 0., 0.])\n",
      " ([0., 0.], 0., 0., [0., 0., 0., 0.]) ([0., 0.], 0., 0., [0., 0., 0., 0.])\n",
      " ([0., 0.], 0., 0., [0., 0., 0., 0.]) ([0., 0.], 0., 0., [0., 0., 0., 0.])\n",
      " ([0., 0.], 0., 0., [0., 0., 0., 0.]) ([0., 0.], 0., 0., [0., 0., 0., 0.])\n",
      " ([0., 0.], 0., 0., [0., 0., 0., 0.]) ([0., 0.], 0., 0., [0., 0., 0., 0.])\n",
      " ([0., 0.], 0., 0., [0., 0., 0., 0.]) ([0., 0.], 0., 0., [0., 0., 0., 0.])\n",
      " ([0., 0.], 0., 0., [0., 0., 0., 0.]) ([0., 0.], 0., 0., [0., 0., 0., 0.])\n",
      " ([0., 0.], 0., 0., [0., 0., 0., 0.]) ([0., 0.], 0., 0., [0., 0., 0., 0.])\n",
      " ([0., 0.], 0., 0., [0., 0., 0., 0.]) ([0., 0.], 0., 0., [0., 0., 0., 0.])\n",
      " ([0., 0.], 0., 0., [0., 0., 0., 0.]) ([0., 0.], 0., 0., [0., 0., 0., 0.])]\n"
     ]
    },
    {
     "name": "stderr",
     "output_type": "stream",
     "text": [
      "<ipython-input-6-89939d2f6242>:2: FutureWarning: Passing (type, 1) or '1type' as a synonym of type is deprecated; in a future version of numpy, it will be understood as (type, (1,)) / '(1,)type'.\n",
      "  rain_drops = np.zeros(n_drops, dtype=[('position', float, 2),\n"
     ]
    }
   ],
   "source": [
    "n_drops = 50\n",
    "rain_drops = np.zeros(n_drops, dtype=[('position', float, 2),\n",
    "                                      ('size',     float, 1),\n",
    "                                      ('growth',   float, 1),\n",
    "                                      ('color',    float, 4)])\n",
    "print(rain_drops)"
   ]
  },
  {
   "cell_type": "code",
   "execution_count": 7,
   "metadata": {},
   "outputs": [
    {
     "name": "stdout",
     "output_type": "stream",
     "text": [
      "[[0.67990813 0.19173615]\n",
      " [0.07538428 0.11977021]\n",
      " [0.22679542 0.87558475]\n",
      " [0.68791412 0.63110118]\n",
      " [0.07296452 0.20518864]\n",
      " [0.57642977 0.08884834]\n",
      " [0.41584011 0.97831723]\n",
      " [0.57071763 0.40806233]\n",
      " [0.5430959  0.91381645]\n",
      " [0.66995564 0.13607261]\n",
      " [0.36663034 0.96080128]\n",
      " [0.77958097 0.86518087]\n",
      " [0.28202466 0.55032471]\n",
      " [0.37593179 0.53609697]\n",
      " [0.58070179 0.36850181]\n",
      " [0.65033301 0.32552468]\n",
      " [0.3089641  0.01909539]\n",
      " [0.87527202 0.85933091]\n",
      " [0.84489736 0.89217013]\n",
      " [0.66719021 0.10589994]\n",
      " [0.69824574 0.1841323 ]\n",
      " [0.89155079 0.67179719]\n",
      " [0.46420461 0.05205933]\n",
      " [0.09852184 0.72486781]\n",
      " [0.42045419 0.9365897 ]\n",
      " [0.32047628 0.615678  ]\n",
      " [0.12167365 0.43035049]\n",
      " [0.53295488 0.60104644]\n",
      " [0.81464251 0.27475024]\n",
      " [0.74268554 0.72204875]\n",
      " [0.32915538 0.85575525]\n",
      " [0.43596627 0.89439416]\n",
      " [0.40959831 0.57035266]\n",
      " [0.07698864 0.27727128]\n",
      " [0.61107455 0.16246568]\n",
      " [0.52040131 0.3220889 ]\n",
      " [0.60518838 0.8238784 ]\n",
      " [0.57703085 0.24063725]\n",
      " [0.32757391 0.91544144]\n",
      " [0.135931   0.23201309]\n",
      " [0.69276839 0.79663527]\n",
      " [0.46487474 0.05880681]\n",
      " [0.54435421 0.89022027]\n",
      " [0.9616955  0.31764305]\n",
      " [0.58082167 0.6184834 ]\n",
      " [0.31663577 0.50284228]\n",
      " [0.48145242 0.04016441]\n",
      " [0.40160603 0.33200427]\n",
      " [0.83692772 0.64737993]\n",
      " [0.12136418 0.51310355]]\n"
     ]
    }
   ],
   "source": [
    "print(np.random.uniform(0, 1, (n_drops, 2)))"
   ]
  },
  {
   "cell_type": "code",
   "execution_count": 9,
   "metadata": {},
   "outputs": [
    {
     "name": "stdout",
     "output_type": "stream",
     "text": [
      "[[1 2]\n",
      " [2 3]\n",
      " [5 2]]\n"
     ]
    }
   ],
   "source": [
    "list = [[1,2], [2,3], [5,2]]\n",
    "arr = np.asarray(list)\n",
    "print(arr)"
   ]
  },
  {
   "cell_type": "code",
   "execution_count": 12,
   "metadata": {
    "scrolled": true
   },
   "outputs": [
    {
     "name": "stderr",
     "output_type": "stream",
     "text": [
      "<ipython-input-12-5f3836dd9eb1>:14: FutureWarning: Passing (type, 1) or '1type' as a synonym of type is deprecated; in a future version of numpy, it will be understood as (type, (1,)) / '(1,)type'.\n",
      "  rain_drops = np.zeros(n_drops, dtype=[('position', float, 2),\n"
     ]
    },
    {
     "data": {
      "image/png": "[encoded data removed]",
      "text/plain": [
       "<Figure size 504x504 with 1 Axes>"
      ]
     },
     "metadata": {},
     "output_type": "display_data"
    }
   ],
   "source": [
    "import numpy as np\n",
    "import matplotlib.pyplot as plt\n",
    "from matplotlib.animation import FuncAnimation\n",
    "\n",
    "\n",
    "# Create new Figure and an Axes which fills it.\n",
    "fig = plt.figure(figsize=(7, 7))\n",
    "ax = fig.add_axes([0, 0, 1, 1], frameon=False)\n",
    "ax.set_xlim(0, 1), ax.set_xticks([])\n",
    "ax.set_ylim(0, 1), ax.set_yticks([])\n",
    "\n",
    "# Create rain data\n",
    "n_drops = 50\n",
    "rain_drops = np.zeros(n_drops, dtype=[('position', float, 2),\n",
    "                                      ('size',     float, 1),\n",
    "                                      ('growth',   float, 1),\n",
    "                                      ('color',    float, 4)])\n",
    "\n",
    "# Initialize the raindrops in random positions and with\n",
    "# random growth rates.\n",
    "rain_drops['position'] = np.random.uniform(0, 1, (n_drops, 2))\n",
    "rain_drops['growth'] = np.random.uniform(50, 200, n_drops)\n",
    "\n",
    "# Construct the scatter which we will update during animation\n",
    "# as the raindrops develop.\n",
    "scat = ax.scatter(rain_drops['position'][:, 0], rain_drops['position'][:, 1],\n",
    "                  s=rain_drops['size'], lw=0.5, edgecolors=rain_drops['color'],\n",
    "                  facecolors='none')\n",
    "\n",
    "\n",
    "def update(frame_number):\n",
    "    # Get an index which we can use to re-spawn the oldest raindrop.\n",
    "    current_index = frame_number % n_drops\n",
    "\n",
    "    # Make all colors more transparent as time progresses.\n",
    "    rain_drops['color'][:, 3] -= 1.0/len(rain_drops)\n",
    "    rain_drops['color'][:, 3] = np.clip(rain_drops['color'][:, 3], 0, 1)\n",
    "\n",
    "    # Make all circles bigger.\n",
    "    rain_drops['size'] += rain_drops['growth']\n",
    "\n",
    "    # Pick a new position for oldest rain drop, resetting its size,\n",
    "    # color and growth factor.\n",
    "    rain_drops['position'][current_index] = np.random.uniform(0, 1, 2)\n",
    "    rain_drops['size'][current_index] = 5\n",
    "    rain_drops['color'][current_index] = (0, 0, 0, 1)\n",
    "    rain_drops['growth'][current_index] = np.random.uniform(50, 200)\n",
    "\n",
    "    # Update the scatter collection, with the new colors, sizes and positions.\n",
    "    scat.set_edgecolors(rain_drops['color'])\n",
    "    scat.set_sizes(rain_drops['size'])\n",
    "    scat.set_offsets(rain_drops['position'])\n",
    "\n",
    "\n",
    "# Construct the animation, using the update function as the animation\n",
    "# director.\n",
    "animation = FuncAnimation(fig, update, interval=10)\n",
    "plt.show()"
   ]
  },
  {
   "cell_type": "code",
   "execution_count": null,
   "metadata": {},
   "outputs": [],
   "source": []
  },
  {
   "cell_type": "code",
   "execution_count": null,
   "metadata": {},
   "outputs": [],
   "source": []
  }
 ],
 "metadata": {
  "kernelspec": {
   "display_name": "Python 3",
   "language": "python",
   "name": "python3"
  },
  "language_info": {
   "codemirror_mode": {
    "name": "ipython",
    "version": 3
   },
   "file_extension": ".py",
   "mimetype": "text/x-python",
   "name": "python",
   "nbconvert_exporter": "python",
   "pygments_lexer": "ipython3",
   "version": "3.8.2"
  }
 },
 "nbformat": 4,
 "nbformat_minor": 4
}
